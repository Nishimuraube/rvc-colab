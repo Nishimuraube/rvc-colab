{
  "cells": [
    {
      "cell_type": "markdown",
      "metadata": {
        "id": "view-in-github",
        "colab_type": "text"
      },
      "source": [
        "<a href=\"https://colab.research.google.com/github/Nishimuraube/rvc-colab/blob/main/rvc-colab_jp.ipynb\" target=\"_parent\"><img src=\"https://colab.research.google.com/assets/colab-badge.svg\" alt=\"Open In Colab\"/></a>"
      ]
    },
    {
      "cell_type": "code",
      "execution_count": null,
      "metadata": {
        "id": "5JnMq1gOzwAR"
      },
      "outputs": [],
      "source": [
        "# @title リポジトリをクローン\n",
        "%rm -rf /content/rvc-colab\n",
        "%cd /content\n",
        "!git clone --depth=1 https://github.com/Nishimuraube/rvc-colab.git\n",
        "%cd /content/rvc-colab\n",
        "!mkdir -p pretrained uvr5_weights"
      ]
    },
    {
      "cell_type": "code",
      "execution_count": null,
      "metadata": {
        "cellView": "form",
        "id": "9ElBFn_lOIHm"
      },
      "outputs": [],
      "source": [
        "# @title 実行環境の設定\n",
        "!pip install -r requirements.txt"
      ]
    },
    {
      "cell_type": "code",
      "execution_count": null,
      "metadata": {
        "cellView": "form",
        "id": "6xsQMMHMb9Uj"
      },
      "outputs": [],
      "source": [
        "# @title ベースモデルをダウンロード\n",
        "!apt install -y aria2\n",
        "!aria2c --console-log-level=error -c -x 16 -s 16 -k 1M https://huggingface.co/lj1995/VoiceConversionWebUI/resolve/main/pretrained/D32k.pth -d /content/rvc-colab/pretrained -o D32k.pth\n",
        "!aria2c --console-log-level=error -c -x 16 -s 16 -k 1M https://huggingface.co/lj1995/VoiceConversionWebUI/resolve/main/pretrained/D40k.pth -d /content/rvc-colab/pretrained -o D40k.pth\n",
        "!aria2c --console-log-level=error -c -x 16 -s 16 -k 1M https://huggingface.co/lj1995/VoiceConversionWebUI/resolve/main/pretrained/D48k.pth -d /content/rvc-colab/pretrained -o D48k.pth\n",
        "!aria2c --console-log-level=error -c -x 16 -s 16 -k 1M https://huggingface.co/lj1995/VoiceConversionWebUI/resolve/main/pretrained/G32k.pth -d /content/rvc-colab/pretrained -o G32k.pth\n",
        "!aria2c --console-log-level=error -c -x 16 -s 16 -k 1M https://huggingface.co/lj1995/VoiceConversionWebUI/resolve/main/pretrained/G40k.pth -d /content/rvc-colab/pretrained -o G40k.pth\n",
        "!aria2c --console-log-level=error -c -x 16 -s 16 -k 1M https://huggingface.co/lj1995/VoiceConversionWebUI/resolve/main/pretrained/G48k.pth -d /content/rvc-colab/pretrained -o G48k.pth\n",
        "!aria2c --console-log-level=error -c -x 16 -s 16 -k 1M https://huggingface.co/lj1995/VoiceConversionWebUI/resolve/main/pretrained/f0D32k.pth -d /content/rvc-colab/pretrained -o f0D32k.pth\n",
        "!aria2c --console-log-level=error -c -x 16 -s 16 -k 1M https://huggingface.co/lj1995/VoiceConversionWebUI/resolve/main/pretrained/f0D40k.pth -d /content/rvc-colab/pretrained -o f0D40k.pth\n",
        "!aria2c --console-log-level=error -c -x 16 -s 16 -k 1M https://huggingface.co/lj1995/VoiceConversionWebUI/resolve/main/pretrained/f0D48k.pth -d /content/rvc-colab/pretrained -o f0D48k.pth\n",
        "!aria2c --console-log-level=error -c -x 16 -s 16 -k 1M https://huggingface.co/lj1995/VoiceConversionWebUI/resolve/main/pretrained/f0G32k.pth -d /content/rvc-colab/pretrained -o f0G32k.pth\n",
        "!aria2c --console-log-level=error -c -x 16 -s 16 -k 1M https://huggingface.co/lj1995/VoiceConversionWebUI/resolve/main/pretrained/f0G40k.pth -d /content/rvc-colab/pretrained -o f0G40k.pth\n",
        "!aria2c --console-log-level=error -c -x 16 -s 16 -k 1M https://huggingface.co/lj1995/VoiceConversionWebUI/resolve/main/pretrained/f0G48k.pth -d /content/rvc-colab/pretrained -o f0G48k.pth\n",
        "!aria2c --console-log-level=error -c -x 16 -s 16 -k 1M https://huggingface.co/lj1995/VoiceConversionWebUI/resolve/main/pretrained_v2/D32k.pth -d /content/rvc-colab/pretrained_v2 -o D32k.pth\n",
        "!aria2c --console-log-level=error -c -x 16 -s 16 -k 1M https://huggingface.co/lj1995/VoiceConversionWebUI/resolve/main/pretrained_v2/D40k.pth -d /content/rvc-colab/pretrained_v2 -o D40k.pth\n",
        "!aria2c --console-log-level=error -c -x 16 -s 16 -k 1M https://huggingface.co/lj1995/VoiceConversionWebUI/resolve/main/pretrained_v2/D48k.pth -d /content/rvc-colab/pretrained_v2 -o D48k.pth\n",
        "!aria2c --console-log-level=error -c -x 16 -s 16 -k 1M https://huggingface.co/lj1995/VoiceConversionWebUI/resolve/main/pretrained_v2/G32k.pth -d /content/rvc-colab/pretrained_v2 -o G32k.pth\n",
        "!aria2c --console-log-level=error -c -x 16 -s 16 -k 1M https://huggingface.co/lj1995/VoiceConversionWebUI/resolve/main/pretrained_v2/G40k.pth -d /content/rvc-colab/pretrained_v2 -o G40k.pth\n",
        "!aria2c --console-log-level=error -c -x 16 -s 16 -k 1M https://huggingface.co/lj1995/VoiceConversionWebUI/resolve/main/pretrained_v2/G48k.pth -d /content/rvc-colab/pretrained_v2 -o G48k.pth\n",
        "!aria2c --console-log-level=error -c -x 16 -s 16 -k 1M https://huggingface.co/lj1995/VoiceConversionWebUI/resolve/main/pretrained_v2/f0D32k.pth -d /content/rvc-colab/pretrained_v2 -o f0D32k.pth\n",
        "!aria2c --console-log-level=error -c -x 16 -s 16 -k 1M https://huggingface.co/lj1995/VoiceConversionWebUI/resolve/main/pretrained_v2/f0D40k.pth -d /content/rvc-colab/pretrained_v2 -o f0D40k.pth\n",
        "!aria2c --console-log-level=error -c -x 16 -s 16 -k 1M https://huggingface.co/lj1995/VoiceConversionWebUI/resolve/main/pretrained_v2/f0D48k.pth -d /content/rvc-colab/pretrained_v2 -o f0D48k.pth\n",
        "!aria2c --console-log-level=error -c -x 16 -s 16 -k 1M https://huggingface.co/lj1995/VoiceConversionWebUI/resolve/main/pretrained_v2/f0G32k.pth -d /content/rvc-colab/pretrained_v2 -o f0G32k.pth\n",
        "!aria2c --console-log-level=error -c -x 16 -s 16 -k 1M https://huggingface.co/lj1995/VoiceConversionWebUI/resolve/main/pretrained_v2/f0G40k.pth -d /content/rvc-colab/pretrained_v2 -o f0G40k.pth\n",
        "!aria2c --console-log-level=error -c -x 16 -s 16 -k 1M https://huggingface.co/lj1995/VoiceConversionWebUI/resolve/main/pretrained_v2/f0G48k.pth -d /content/rvc-colab/pretrained_v2 -o f0G48k.pth\n",
        "!aria2c --console-log-level=error -c -x 16 -s 16 -k 1M https://huggingface.co/lj1995/VoiceConversionWebUI/resolve/main/uvr5_weights/HP2-人声vocals+非人声instrumentals.pth -d /content/rvc-colab/uvr5_weights -o HP2-ボーカル+伴奏分離.pth\n",
        "!aria2c --console-log-level=error -c -x 16 -s 16 -k 1M https://huggingface.co/lj1995/VoiceConversionWebUI/resolve/main/uvr5_weights/HP5-主旋律人声vocals+其他instrumentals.pth -d /content/rvc-colab/uvr5_weights -o HP5-メインボーカル+その他楽器.pth\n",
        "!aria2c --console-log-level=error -c -x 16 -s 16 -k 1M https://huggingface.co/spaces/zomehwh/rvc-models/resolve/main/hubert_base.pt -d /content/rvc-colab/assets/hubert -o hubert_base.pt\n",
        "!aria2c --console-log-level=error -c -x 16 -s 16 -k 1M https://huggingface.co/lj1995/VoiceConversionWebUI/resolve/main/rmvpe.pt -d /content/rvc-colab/assets/rmvpe -o rmvpe.pt"
      ]
    },
    {
      "cell_type": "code",
      "execution_count": null,
      "metadata": {
        "cellView": "form",
        "id": "jwu07JgqoFON"
      },
      "outputs": [],
      "source": [
        "# @title Google Driveをマウント\n",
        "\n",
        "from google.colab import drive\n",
        "\n",
        "drive.mount(\"/content/drive\")"
      ]
    },
    {
      "cell_type": "code",
      "execution_count": null,
      "metadata": {
        "cellView": "form",
        "id": "Mwk7Q0Loqzjx"
      },
      "outputs": [],
      "source": [
        "# @title Google Driveからパッケージ済みデータセットを/content/datasetに読み込む\n",
        "\n",
        "# @markdown データセットの場所\n",
        "DATASET = \"/content/drive/MyDrive/AI/datasets/dohoon.zip\"  # @param {type:\"string\"}\n",
        "\n",
        "\n",
        "!mkdir -p /content/dataset\n",
        "!unzip -d /content/dataset -B {DATASET}"
      ]
    },
    {
      "cell_type": "code",
      "execution_count": null,
      "metadata": {
        "cellView": "form",
        "id": "OVQoLQJXS7WX"
      },
      "outputs": [],
      "source": [
        "# @title Google Driveからpthを復元（初回使用時は実行不要）\n",
        "# @markdown logsフォルダ内のモデルファイル名を確認し、以下のコマンド末尾のファイル名を手動で修正する必要があります。\n",
        "\n",
        "# @markdown 学習済モデルを使いたい場合に使用してください。\n",
        "\n",
        "# @markdown モデル名\n",
        "MODELNAME = \"\"  # @param {type:\"string\"}\n",
        "# @markdown モデルのエポック数\n",
        "MODELEPOCH = None  # @param {type:\"integer\"}\n",
        "\n",
        "!mkdir -p /content/rvc-colab/logs/{MODELNAME}\n",
        "\n",
        "!cp /content/drive/MyDrive/{MODELNAME}_D_{MODELEPOCH}.pth /content/rvc-colab/logs/{MODELNAME}/G_{MODELEPOCH}.pth\n",
        "!cp /content/drive/MyDrive/{MODELNAME}_G_{MODELEPOCH}.pth /content/rvc-colab/logs/{MODELNAME}/D_{MODELEPOCH}.pth\n",
        "!cp /content/drive/MyDrive/*.index /content/\n",
        "!cp /content/drive/MyDrive/*.npy /content/\n",
        "!cp /content/drive/MyDrive/{MODELNAME}{MODELEPOCH}.pth /content/rvc-colab/weights/{MODELNAME}.pth"
      ]
    },
    {
      "cell_type": "markdown",
      "metadata": {
        "id": "VxFlHIGoZNK1"
      },
      "source": [
        "# Web版RVCの実行"
      ]
    },
    {
      "cell_type": "code",
      "execution_count": null,
      "metadata": {
        "cellView": "form",
        "id": "9WTevfT60FnC"
      },
      "outputs": [],
      "source": [
        "# @title 方法1：スクリプトを直接実行（GradioでWebアクセスを取得）\n",
        "%cd /content/rvc-colab\n",
        "#%load_ext tensorboard\n",
        "#%tensorboard --logdir /content/rvc-colab/logs\n",
        "!python infer-web.py --colab --pycmd python3 --port 7890"
      ]
    },
    {
      "cell_type": "code",
      "execution_count": null,
      "metadata": {
        "cellView": "form",
        "id": "a0SaYzc5S_Dg"
      },
      "outputs": [],
      "source": [
        "# @title 方法2：pyngrokでスクリプトを実行\n",
        "#%load_ext tensorboard\n",
        "#%tensorboard --logdir /content/rvc-colab/logs\n",
        "!pip install pyngrok\n",
        "from pyngrok import ngrok\n",
        "# @markdown Ngrok認証トークン（https://dashboard.ngrok.com で申請）\n",
        "Authtoken = \"\"  # @param {type:\"string\"}\n",
        "ngrok.set_auth_token(Authtoken)       # https://dashboard.ngrok.com で申請\n",
        "# Gradioが7860ポートで起動することを想定\n",
        "public_url = ngrok.connect(7860, \"http\")\n",
        "print(\"🌐 ngrokパブリックアクセスURL:\", public_url)\n",
        "# その後WebUIを起動し、0.0.0.0:7860でリスニングすることを確認\n",
        "!python infer-web.py --pycmd python3 --port 7860\n"
      ]
    },
    {
      "cell_type": "code",
      "execution_count": null,
      "metadata": {
        "cellView": "form",
        "id": "FgJuNeAwx5Y_"
      },
      "outputs": [],
      "source": [
        "# @title モデルファイルをGoogle Driveにバックアップ\n",
        "# @markdown logsフォルダ内のモデルファイル名を確認し、以下のコマンド末尾のファイル名を手動で修正する必要があります。\n",
        "\n",
        "# @markdown モデル名\n",
        "MODELNAME = \"\"  # @param {type:\"string\"}\n",
        "# @markdown モデルのエポック数\n",
        "MODELEPOCH = None  # @param {type:\"integer\"}\n",
        "\n",
        "!cp /content/rvc-colab/logs/{MODELNAME}/G_{MODELEPOCH}.pth /content/drive/MyDrive/{MODELNAME}_D_{MODELEPOCH}.pth\n",
        "!cp /content/rvc-colab/logs/{MODELNAME}/D_{MODELEPOCH}.pth /content/drive/MyDrive/{MODELNAME}_G_{MODELEPOCH}.pth\n",
        "!cp /content/rvc-colab/logs/{MODELNAME}/added_*.index /content/drive/MyDrive/\n",
        "!cp /content/rvc-colab/logs/{MODELNAME}/total_*.npy /content/drive/MyDrive/\n",
        "\n",
        "!cp /content/rvc-colab/asserts/weights/{MODELNAME}.pth /content/drive/MyDrive/{MODELNAME}{MODELEPOCH}.pth"
      ]
    },
    {
      "cell_type": "markdown",
      "metadata": {
        "id": "z140MytAYySd"
      },
      "source": [
        "# Webインターフェース実行時にコード実行が禁止されている場合、コマンドでスクリプトを実行してモデル訓練を行うことができます(2025/09/04 現在 このセルは実行できません)"
      ]
    },
    {
      "cell_type": "code",
      "execution_count": null,
      "metadata": {
        "id": "ZKAyuKb9J6dz"
      },
      "outputs": [],
      "source": [
        "# @title 音声ファイルの前処理\n",
        "# @markdown モデル名\n",
        "MODELNAME = \"\"  # @param {type:\"string\"}\n",
        "# @markdown サンプリングレート\n",
        "BITRATE = 48000  # @param {type:\"integer\"}\n",
        "# @markdown 使用プロセス数\n",
        "THREADCOUNT = 4  # @param {type:\"integer\"}\n",
        "\n",
        "!python trainset_preprocess_pipeline_print.py /content/dataset {BITRATE} {THREADCOUNT} logs/{MODELNAME} True"
      ]
    },
    {
      "cell_type": "code",
      "execution_count": null,
      "metadata": {
        "id": "CrxJqzAUKmPJ"
      },
      "outputs": [],
      "source": [
        "# @title 音高特徴の抽出\n",
        "# @markdown モデル名\n",
        "MODELNAME = \"\"  # @param {type:\"string\"}\n",
        "# @markdown 使用プロセス数\n",
        "THREADCOUNT = 4  # @param {type:\"integer\"}\n",
        "# @markdown 音高抽出アルゴリズム 選択可能：\"harvest\" \"pm\" \"dio\" \"rmvpe\"\n",
        "ALGO = \"rmvpe\"  # @param {type:\"string\"}\n",
        "\n",
        "!python3 extract_f0_print.py logs/{MODELNAME} {THREADCOUNT} {ALGO}\n",
        "\n",
        "!python3 extract_feature_print.py cpu 1 0 0 logs/{MODELNAME} True"
      ]
    },
    {
      "cell_type": "code",
      "execution_count": null,
      "metadata": {
        "id": "IMLPLKOaKj58"
      },
      "outputs": [],
      "source": [
        "# @title モデルの訓練\n",
        "%load_ext tensorboard\n",
        "%tensorboard --logdir /content/rvc-colab/logs\n",
        "# @markdown モデル名\n",
        "MODELNAME = \"\"  # @param {type:\"string\"}\n",
        "# Colabはシングルカードのみのため考慮不要\n",
        "USEGPU = \"0\"\n",
        "# @markdown バッチサイズ\n",
        "BATCHSIZE = 16  # @param {type:\"integer\"}\n",
        "# @markdown 停止エポック数\n",
        "MODELEPOCH = 50  # @param {type:\"integer\"}\n",
        "# @markdown 保存エポック間隔\n",
        "EPOCHSAVE = 10  # @param {type:\"integer\"}\n",
        "# @markdown サンプリングレート\n",
        "MODELSAMPLE = \"48k\"  # @param {type:\"string\"}\n",
        "# @markdown 訓練セットをキャッシュするか\n",
        "CACHEDATA = 1  # @param {type:\"integer\"}\n",
        "# @markdown 最新のckptファイルのみ保存するか\n",
        "ONLYLATEST = 0  # @param {type:\"integer\"}\n",
        "\n",
        "!python3 train_nsf_sim_cache_sid_load_pretrain.py -e lulu -sr {MODELSAMPLE} -f0 1 -bs {BATCHSIZE} -g {USEGPU} -te {MODELEPOCH} -se {EPOCHSAVE} -pg pretrained/f0G{MODELSAMPLE}.pth -pd pretrained/f0D{MODELSAMPLE}.pth -l {ONLYLATEST} -c {CACHEDATA}"
      ]
    },
    {
      "cell_type": "code",
      "execution_count": null,
      "metadata": {
        "cellView": "form",
        "id": "04wbdjCgbKdq"
      },
      "outputs": [],
      "source": [
        "# @title モデルファイルをGoogle Driveにバックアップ\n",
        "# @markdown logsフォルダ内のモデルファイル名を確認し、以下のコマンド末尾のファイル名を手動で修正する必要があります\n",
        "\n",
        "# @markdown モデル名\n",
        "MODELNAME = \"lulu\"  # @param {type:\"string\"}\n",
        "# @markdown モデルのエポック数\n",
        "MODELEPOCH = 9600  # @param {type:\"integer\"}\n",
        "\n",
        "!cp /content/rvc-colab/logs/{MODELNAME}/G_{MODELEPOCH}.pth /content/drive/MyDrive/{MODELNAME}_D_{MODELEPOCH}.pth\n",
        "!cp /content/rvc-colab/logs/{MODELNAME}/D_{MODELEPOCH}.pth /content/drive/MyDrive/{MODELNAME}_G_{MODELEPOCH}.pth\n",
        "!cp /content/rvc-colab/logs/{MODELNAME}/added_*.index /content/drive/MyDrive/\n",
        "!cp /content/rvc-colab/logs/{MODELNAME}/total_*.npy /content/drive/MyDrive/\n",
        "\n",
        "!cp /content/rvc-colab/weights/{MODELNAME}.pth /content/drive/MyDrive/{MODELNAME}{MODELEPOCH}.pth"
      ]
    }
  ],
  "metadata": {
    "accelerator": "GPU",
    "colab": {
      "collapsed_sections": [
        "z140MytAYySd"
      ],
      "gpuType": "T4",
      "provenance": [],
      "runtime_attributes": {
        "runtime_version": "2025.07"
      },
      "include_colab_link": true
    },
    "kernelspec": {
      "display_name": "Python 3",
      "name": "python3"
    },
    "language_info": {
      "name": "python"
    }
  },
  "nbformat": 4,
  "nbformat_minor": 0
}